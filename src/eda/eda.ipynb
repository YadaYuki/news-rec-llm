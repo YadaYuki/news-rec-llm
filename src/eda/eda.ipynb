{
 "cells": [
  {
   "attachments": {},
   "cell_type": "markdown",
   "metadata": {},
   "source": [
    "# smallで分析を行う\n",
    "## 調べること\n",
    "- 各ファイルがどんな役割を\n",
    "- データのサイズ\n",
    "- どんなカラムがあるか\n",
    "  - カラムの内容\n",
    "  - 離散 vs 連続\n",
    "  - numeric vs categorical\n",
    "- ユーザ数\n",
    "- 記事の本数は？\n",
    "- アクション数の総計は？\n",
    "- アクションの種類\n",
    "- 各ユーザの累計アクセス数は？\n",
    "- 各ユーザの継続率は？\n",
    "- 日数情報があれば。\n",
    "  - どんなカテゴリの記事が人気か？"
   ]
  },
  {
   "attachments": {},
   "cell_type": "markdown",
   "metadata": {},
   "source": [
    "### Dataset\n",
    "- behaviors.tsv: The behaviors.tsv file contains the impression logs and users’ news click histories. It has five columns divided by the tab symbol:\n",
    "- news.tsv: ニュース記事の情報\n",
    "- entity_embedding.vec: ナレッジグラフから抽出したニュースに含まれるエンティティの埋め込み\n",
    "- relation_embedding.vec: ナレッジグラフから抽出したエンティティ間の関係の埋め込み"
   ]
  },
  {
   "cell_type": "code",
   "execution_count": 53,
   "metadata": {},
   "outputs": [],
   "source": [
    "import polars as pl\n",
    "from src.const.path import DATASET_DIR\n",
    "from matplotlib import pyplot as plt\n"
   ]
  },
  {
   "cell_type": "code",
   "execution_count": 32,
   "metadata": {},
   "outputs": [],
   "source": [
    "MIND_DATASET_DIR = DATASET_DIR / \"mind\"\n",
    "MIND_SMALL_DATASET_DIR = MIND_DATASET_DIR / \"small\"\n",
    "MIND_LARGE_DATASET_DIR = MIND_DATASET_DIR / \"large\"\n",
    "MIND_SMALL_DATASET_TRAIN_DIR = MIND_SMALL_DATASET_DIR / \"train\"\n",
    "MIND_LARGE_DATASET_TRAIN_DIR = MIND_LARGE_DATASET_DIR / \"train\"\n"
   ]
  },
  {
   "cell_type": "code",
   "execution_count": 33,
   "metadata": {},
   "outputs": [],
   "source": [
    "behavior_df = pl.read_csv(\n",
    "    MIND_LARGE_DATASET_TRAIN_DIR / \"behaviors.tsv\", separator=\"\\t\", encoding=\"utf8-lossy\", has_header=False\n",
    ")\n",
    "news_df = pl.read_csv(\n",
    "    MIND_LARGE_DATASET_TRAIN_DIR / \"news.tsv\", separator=\"\\t\", encoding=\"utf8-lossy\", has_header=False\n",
    ")\n",
    "entity_embedding_df = pl.read_csv(\n",
    "    MIND_LARGE_DATASET_TRAIN_DIR / \"entity_embedding.vec\", separator=\"\\t\", encoding=\"utf8-lossy\", has_header=False\n",
    ")\n",
    "relation_embedding_df = pl.read_csv(\n",
    "    MIND_LARGE_DATASET_TRAIN_DIR / \"relation_embedding.vec\", separator=\"\\t\", encoding=\"utf8-lossy\", has_header=False\n",
    ")\n"
   ]
  },
  {
   "attachments": {},
   "cell_type": "markdown",
   "metadata": {},
   "source": [
    "## Column\n",
    "### behaviors.tsv\n",
    "- Impression ID:  Impression ID\n",
    "- User ID: User ID\n",
    "- Time: Timestamp of Impression\n",
    "- History: News IDs\n",
    "- Impressions: List of news displayed in this impression and user’s click behaviors on them (1 for click and 0 for non-click).\n",
    "<!-- どうやってクリックしたNews IDのリストを抽出ているんだろうか... -->\n",
    "<!-- 世の中に落ちている実装とか見ながらだな -->\n",
    "\n",
    "### news.tsv\n",
    "\n",
    "- News ID: Id of news\n",
    "- Category: Category News\n",
    "- Subcategory: subcategory of news\n",
    "- Title: News Title\n",
    "- Abstract: News Abstract\n",
    "- URL: URL\n",
    "- Title Entities (entities contained in the title of this news): タイトル内に含まれる知識グラフのノード群\n",
    "- Abstract Entities (entities contained in the abstract of this news): Abstract内に含まれる知識グラフのノード群\n",
    "\n",
    "\n",
    "### entity_embedding.vec & relation_embedding.vec\n",
    "\n",
    "- 100次元で表現されたentityとrelationのEmbedding\n",
    "- WikiDataという知識グラフからTransEという手法を用いて学習.\n"
   ]
  },
  {
   "cell_type": "code",
   "execution_count": 34,
   "metadata": {},
   "outputs": [],
   "source": [
    "news_df = news_df.rename(\n",
    "    {\n",
    "        \"column_1\": \"news_id\",\n",
    "        \"column_2\": \"category\",\n",
    "        \"column_3\": \"subcategory\",\n",
    "        \"column_4\": \"title\",\n",
    "        \"column_5\": \"abstract\",\n",
    "        \"column_6\": \"url\",\n",
    "        \"column_7\": \"title_entities\",\n",
    "        \"column_8\": \"abstract_entities\",\n",
    "    }\n",
    ")\n",
    "behavior_df = behavior_df.rename(\n",
    "    {\n",
    "        \"column_1\": \"impression_id\",\n",
    "        \"column_2\": \"user_id\",\n",
    "        \"column_3\": \"time\",\n",
    "        \"column_4\": \"history\",\n",
    "        \"column_5\": \"impressions\",\n",
    "    }\n",
    ")\n"
   ]
  },
  {
   "cell_type": "code",
   "execution_count": 35,
   "metadata": {},
   "outputs": [
    {
     "data": {
      "text/html": [
       "<div><style>\n",
       ".dataframe > thead > tr > th,\n",
       ".dataframe > tbody > tr > td {\n",
       "  text-align: right;\n",
       "}\n",
       "</style>\n",
       "<small>shape: (5, 8)</small><table border=\"1\" class=\"dataframe\"><thead><tr><th>news_id</th><th>category</th><th>subcategory</th><th>title</th><th>abstract</th><th>url</th><th>title_entities</th><th>abstract_entities</th></tr><tr><td>str</td><td>str</td><td>str</td><td>str</td><td>str</td><td>str</td><td>str</td><td>str</td></tr></thead><tbody><tr><td>&quot;N88753&quot;</td><td>&quot;lifestyle&quot;</td><td>&quot;lifestyleroyal…</td><td>&quot;The Brands Que…</td><td>&quot;Shop the noteb…</td><td>&quot;https://assets…</td><td>&quot;[{&quot;Label&quot;: &quot;Pr…</td><td>&quot;[]&quot;</td></tr><tr><td>&quot;N45436&quot;</td><td>&quot;news&quot;</td><td>&quot;newsscienceand…</td><td>&quot;Walmart Slashe…</td><td>&quot;Apple&#x27;s new iP…</td><td>&quot;https://assets…</td><td>&quot;[{&quot;Label&quot;: &quot;IP…</td><td>&quot;[{&quot;Label&quot;: &quot;IP…</td></tr><tr><td>&quot;N23144&quot;</td><td>&quot;health&quot;</td><td>&quot;weightloss&quot;</td><td>&quot;50 Worst Habit…</td><td>&quot;These seemingl…</td><td>&quot;https://assets…</td><td>&quot;[{&quot;Label&quot;: &quot;Ad…</td><td>&quot;[{&quot;Label&quot;: &quot;Ad…</td></tr><tr><td>&quot;N86255&quot;</td><td>&quot;health&quot;</td><td>&quot;medical&quot;</td><td>&quot;Dispose of unw…</td><td>null</td><td>&quot;https://assets…</td><td>&quot;[{&quot;Label&quot;: &quot;Dr…</td><td>&quot;[]&quot;</td></tr><tr><td>&quot;N93187&quot;</td><td>&quot;news&quot;</td><td>&quot;newsworld&quot;</td><td>&quot;The Cost of Tr…</td><td>&quot;Lt. Ivan Molch…</td><td>&quot;https://assets…</td><td>&quot;[]&quot;</td><td>&quot;[{&quot;Label&quot;: &quot;Uk…</td></tr></tbody></table></div>"
      ],
      "text/plain": [
       "shape: (5, 8)\n",
       "┌─────────┬───────────┬───────────┬────────────┬────────────┬────────────┬────────────┬────────────┐\n",
       "│ news_id ┆ category  ┆ subcatego ┆ title      ┆ abstract   ┆ url        ┆ title_enti ┆ abstract_e │\n",
       "│ ---     ┆ ---       ┆ ry        ┆ ---        ┆ ---        ┆ ---        ┆ ties       ┆ ntities    │\n",
       "│ str     ┆ str       ┆ ---       ┆ str        ┆ str        ┆ str        ┆ ---        ┆ ---        │\n",
       "│         ┆           ┆ str       ┆            ┆            ┆            ┆ str        ┆ str        │\n",
       "╞═════════╪═══════════╪═══════════╪════════════╪════════════╪════════════╪════════════╪════════════╡\n",
       "│ N88753  ┆ lifestyle ┆ lifestyle ┆ The Brands ┆ Shop the   ┆ https://as ┆ [{\"Label\": ┆ []         │\n",
       "│         ┆           ┆ royals    ┆ Queen      ┆ notebooks, ┆ sets.msn.c ┆ \"Prince    ┆            │\n",
       "│         ┆           ┆           ┆ Elizabeth, ┆ jackets,   ┆ om/labs/mi ┆ Philip,    ┆            │\n",
       "│         ┆           ┆           ┆ Prin…      ┆ and…       ┆ nd…        ┆ Duke …     ┆            │\n",
       "│ N45436  ┆ news      ┆ newsscien ┆ Walmart    ┆ Apple's    ┆ https://as ┆ [{\"Label\": ┆ [{\"Label\": │\n",
       "│         ┆           ┆ ceandtech ┆ Slashes    ┆ new iPad   ┆ sets.msn.c ┆ \"IPad\",    ┆ \"IPad\",    │\n",
       "│         ┆           ┆ nology    ┆ Prices on  ┆ releases   ┆ om/labs/mi ┆ \"Type\":    ┆ \"Type\":    │\n",
       "│         ┆           ┆           ┆ Last-G…    ┆ bring …    ┆ nd…        ┆ \"J\", …     ┆ \"J\", …     │\n",
       "│ N23144  ┆ health    ┆ weightlos ┆ 50 Worst   ┆ These      ┆ https://as ┆ [{\"Label\": ┆ [{\"Label\": │\n",
       "│         ┆           ┆ s         ┆ Habits For ┆ seemingly  ┆ sets.msn.c ┆ \"Adipose   ┆ \"Adipose   │\n",
       "│         ┆           ┆           ┆ Belly Fat  ┆ harmless   ┆ om/labs/mi ┆ tissue\",   ┆ tissue\",   │\n",
       "│         ┆           ┆           ┆            ┆ habits …   ┆ nd…        ┆ \"Ty…       ┆ \"Ty…       │\n",
       "│ N86255  ┆ health    ┆ medical   ┆ Dispose of ┆ null       ┆ https://as ┆ [{\"Label\": ┆ []         │\n",
       "│         ┆           ┆           ┆ unwanted   ┆            ┆ sets.msn.c ┆ \"Drug Enfo ┆            │\n",
       "│         ┆           ┆           ┆ prescripti ┆            ┆ om/labs/mi ┆ rcement    ┆            │\n",
       "│         ┆           ┆           ┆ on…        ┆            ┆ nd…        ┆ Adm…       ┆            │\n",
       "│ N93187  ┆ news      ┆ newsworld ┆ The Cost   ┆ Lt. Ivan   ┆ https://as ┆ []         ┆ [{\"Label\": │\n",
       "│         ┆           ┆           ┆ of Trump's ┆ Molchanets ┆ sets.msn.c ┆            ┆ \"Ukraine\", │\n",
       "│         ┆           ┆           ┆ Aid Freeze ┆ peeked     ┆ om/labs/mi ┆            ┆ \"Type\":    │\n",
       "│         ┆           ┆           ┆ i…         ┆ over …     ┆ nd…        ┆            ┆ \"G…        │\n",
       "└─────────┴───────────┴───────────┴────────────┴────────────┴────────────┴────────────┴────────────┘"
      ]
     },
     "execution_count": 35,
     "metadata": {},
     "output_type": "execute_result"
    }
   ],
   "source": [
    "news_df.head()\n"
   ]
  },
  {
   "cell_type": "code",
   "execution_count": 36,
   "metadata": {},
   "outputs": [
    {
     "data": {
      "text/html": [
       "<div><style>\n",
       ".dataframe > thead > tr > th,\n",
       ".dataframe > tbody > tr > td {\n",
       "  text-align: right;\n",
       "}\n",
       "</style>\n",
       "<small>shape: (5, 5)</small><table border=\"1\" class=\"dataframe\"><thead><tr><th>impression_id</th><th>user_id</th><th>time</th><th>history</th><th>impressions</th></tr><tr><td>i64</td><td>str</td><td>str</td><td>str</td><td>str</td></tr></thead><tbody><tr><td>1</td><td>&quot;U87243&quot;</td><td>&quot;11/10/2019 11:…</td><td>&quot;N8668 N39081 N…</td><td>&quot;N78206-0 N2636…</td></tr><tr><td>2</td><td>&quot;U598644&quot;</td><td>&quot;11/12/2019 1:4…</td><td>&quot;N56056 N8726 N…</td><td>&quot;N47996-0 N8271…</td></tr><tr><td>3</td><td>&quot;U532401&quot;</td><td>&quot;11/13/2019 11:…</td><td>&quot;N128643 N87446…</td><td>&quot;N103852-0 N534…</td></tr><tr><td>4</td><td>&quot;U593596&quot;</td><td>&quot;11/12/2019 12:…</td><td>&quot;N31043 N39592 …</td><td>&quot;N38902-0 N7643…</td></tr><tr><td>5</td><td>&quot;U239687&quot;</td><td>&quot;11/14/2019 8:0…</td><td>&quot;N65250 N122359…</td><td>&quot;N76209-0 N4884…</td></tr></tbody></table></div>"
      ],
      "text/plain": [
       "shape: (5, 5)\n",
       "┌───────────────┬─────────┬─────────────────────────┬─────────────────────────┬────────────────────┐\n",
       "│ impression_id ┆ user_id ┆ time                    ┆ history                 ┆ impressions        │\n",
       "│ ---           ┆ ---     ┆ ---                     ┆ ---                     ┆ ---                │\n",
       "│ i64           ┆ str     ┆ str                     ┆ str                     ┆ str                │\n",
       "╞═══════════════╪═════════╪═════════════════════════╪═════════════════════════╪════════════════════╡\n",
       "│ 1             ┆ U87243  ┆ 11/10/2019 11:30:54 AM  ┆ N8668 N39081 N65259     ┆ N78206-0 N26368-0  │\n",
       "│               ┆         ┆                         ┆ N79529 N7340…           ┆ N7578-0 N58592…    │\n",
       "│ 2             ┆ U598644 ┆ 11/12/2019 1:45:29 PM   ┆ N56056 N8726 N70353     ┆ N47996-0 N82719-0  │\n",
       "│               ┆         ┆                         ┆ N67998 N8382…           ┆ N117066-0 N849…    │\n",
       "│ 3             ┆ U532401 ┆ 11/13/2019 11:23:03 AM  ┆ N128643 N87446 N122948  ┆ N103852-0 N53474-0 │\n",
       "│               ┆         ┆                         ┆ N9375 N82…              ┆ N127836-0 N47…     │\n",
       "│ 4             ┆ U593596 ┆ 11/12/2019 12:24:09 PM  ┆ N31043 N39592 N4104     ┆ N38902-0 N76434-0  │\n",
       "│               ┆         ┆                         ┆ N8223 N11458…           ┆ N71593-0 N1000…    │\n",
       "│ 5             ┆ U239687 ┆ 11/14/2019 8:03:01 PM   ┆ N65250 N122359 N71723   ┆ N76209-0 N48841-0  │\n",
       "│               ┆         ┆                         ┆ N53796 N41…             ┆ N67937-0 N6223…    │\n",
       "└───────────────┴─────────┴─────────────────────────┴─────────────────────────┴────────────────────┘"
      ]
     },
     "execution_count": 36,
     "metadata": {},
     "output_type": "execute_result"
    }
   ],
   "source": [
    "behavior_df.head()\n"
   ]
  },
  {
   "cell_type": "code",
   "execution_count": 37,
   "metadata": {},
   "outputs": [
    {
     "name": "stdout",
     "output_type": "stream",
     "text": [
      "Rows: 101282\n",
      "Columns: 8\n",
      "$ news_id           <str> N88753, N45436, N23144, N86255, N93187, N75236, N99744, N5771, N124534, N51947\n",
      "$ category          <str> lifestyle, news, health, health, news, health, health, health, sports, news\n",
      "$ subcategory       <str> lifestyleroyals, newsscienceandtechnology, weightloss, medical, newsworld, voices, medical, cardio, football_nfl, newsscienceandtechnology\n",
      "$ title             <str> The Brands Queen Elizabeth, Prince Charles, and Prince Philip Swear By, Walmart Slashes Prices on Last-Generation iPads, 50 Worst Habits For Belly Fat, Dispose of unwanted prescription drugs during the DEA's Take Back Day, The Cost of Trump's Aid Freeze in the Trenches of Ukraine's War, I Was An NBA Wife. Here's How It Affected My Mental Health., How to Get Rid of Skin Tags, According to a Dermatologist, Check Houston traffic map for current road conditions, Should NFL be able to fine players for criticizing officiating?, How to record your screen on Windows, macOS, iOS or Android\n",
      "$ abstract          <str> Shop the notebooks, jackets, and more that the royals can't live without., Apple's new iPad releases bring big deals on last year's models., These seemingly harmless habits are holding you back and keeping you from shedding that unwanted belly fat for good., None, Lt. Ivan Molchanets peeked over a parapet of sand bags at the front line of the war in Ukraine. Next to him was an empty helmet propped up to trick snipers, already perforated with multiple holes., I felt like I was a fraud, and being an NBA wife didn't help that. In fact, it nearly destroyed me., They seem harmless, but there's a very good reason you shouldn't ignore them. The post How to Get Rid of Skin Tags, According to a Dermatologist appeared first on Reader's Digest., None, Several fines came down against NFL players for criticizing officiating this week. It's a very bad look for the league., The easiest way to record what's happening on your screen, whichever device you're using.\n",
      "$ url               <str> https://assets.msn.com/labs/mind/AAGH0ET.html, https://assets.msn.com/labs/mind/AABmf2I.html, https://assets.msn.com/labs/mind/AAB19MK.html, https://assets.msn.com/labs/mind/AAISxPN.html, https://assets.msn.com/labs/mind/AAJgNsz.html, https://assets.msn.com/labs/mind/AACk2N6.html, https://assets.msn.com/labs/mind/AAAKEkt.html, https://assets.msn.com/labs/mind/AAEKnO1.html, https://assets.msn.com/labs/mind/AAJ4lap.html, https://assets.msn.com/labs/mind/AADlomf.html\n",
      "$ title_entities    <str> [{\"Label\": \"Prince Philip, Duke of Edinburgh\", \"Type\": \"P\", \"WikidataId\": \"Q80976\", \"Confidence\": 1.0, \"OccurrenceOffsets\": [48], \"SurfaceForms\": [\"Prince Philip\"]}, {\"Label\": \"Charles, Prince of Wales\", \"Type\": \"P\", \"WikidataId\": \"Q43274\", \"Confidence\": 1.0, \"OccurrenceOffsets\": [28], \"SurfaceForms\": [\"Prince Charles\"]}, {\"Label\": \"Elizabeth II\", \"Type\": \"P\", \"WikidataId\": \"Q9682\", \"Confidence\": 0.97, \"OccurrenceOffsets\": [11], \"SurfaceForms\": [\"Queen Elizabeth\"]}], [{\"Label\": \"IPad\", \"Type\": \"J\", \"WikidataId\": \"Q2796\", \"Confidence\": 0.999, \"OccurrenceOffsets\": [42], \"SurfaceForms\": [\"iPads\"]}, {\"Label\": \"Walmart\", \"Type\": \"O\", \"WikidataId\": \"Q483551\", \"Confidence\": 1.0, \"OccurrenceOffsets\": [0], \"SurfaceForms\": [\"Walmart\"]}], [{\"Label\": \"Adipose tissue\", \"Type\": \"C\", \"WikidataId\": \"Q193583\", \"Confidence\": 1.0, \"OccurrenceOffsets\": [20], \"SurfaceForms\": [\"Belly Fat\"]}], [{\"Label\": \"Drug Enforcement Administration\", \"Type\": \"O\", \"WikidataId\": \"Q622899\", \"Confidence\": 0.992, \"OccurrenceOffsets\": [50], \"SurfaceForms\": [\"DEA\"]}], [], [], [{\"Label\": \"Skin tag\", \"Type\": \"C\", \"WikidataId\": \"Q3179593\", \"Confidence\": 1.0, \"OccurrenceOffsets\": [18], \"SurfaceForms\": [\"Skin Tags\"]}], [{\"Label\": \"Houston\", \"Type\": \"G\", \"WikidataId\": \"Q16555\", \"Confidence\": 0.941, \"OccurrenceOffsets\": [6], \"SurfaceForms\": [\"Houston\"]}], [{\"Label\": \"National Football League\", \"Type\": \"O\", \"WikidataId\": \"Q1215884\", \"Confidence\": 1.0, \"OccurrenceOffsets\": [7], \"SurfaceForms\": [\"NFL\"]}], [{\"Label\": \"Microsoft Windows\", \"Type\": \"J\", \"WikidataId\": \"Q1406\", \"Confidence\": 1.0, \"OccurrenceOffsets\": [29], \"SurfaceForms\": [\"Windows\"]}, {\"Label\": \"Android (operating system)\", \"Type\": \"J\", \"WikidataId\": \"Q94\", \"Confidence\": 1.0, \"OccurrenceOffsets\": [52], \"SurfaceForms\": [\"Android\"]}]\n",
      "$ abstract_entities <str> [], [{\"Label\": \"IPad\", \"Type\": \"J\", \"WikidataId\": \"Q2796\", \"Confidence\": 0.999, \"OccurrenceOffsets\": [12], \"SurfaceForms\": [\"iPad\"]}, {\"Label\": \"Apple Inc.\", \"Type\": \"O\", \"WikidataId\": \"Q312\", \"Confidence\": 0.999, \"OccurrenceOffsets\": [0], \"SurfaceForms\": [\"Apple\"]}], [{\"Label\": \"Adipose tissue\", \"Type\": \"C\", \"WikidataId\": \"Q193583\", \"Confidence\": 1.0, \"OccurrenceOffsets\": [97], \"SurfaceForms\": [\"belly fat\"]}], [], [{\"Label\": \"Ukraine\", \"Type\": \"G\", \"WikidataId\": \"Q212\", \"Confidence\": 0.946, \"OccurrenceOffsets\": [87], \"SurfaceForms\": [\"Ukraine\"]}], [{\"Label\": \"National Basketball Association\", \"Type\": \"O\", \"WikidataId\": \"Q155223\", \"Confidence\": 1.0, \"OccurrenceOffsets\": [40], \"SurfaceForms\": [\"NBA\"]}], [{\"Label\": \"Skin tag\", \"Type\": \"C\", \"WikidataId\": \"Q3179593\", \"Confidence\": 1.0, \"OccurrenceOffsets\": [105], \"SurfaceForms\": [\"Skin Tags\"]}, {\"Label\": \"Dermatology\", \"Type\": \"C\", \"WikidataId\": \"Q171171\", \"Confidence\": 1.0, \"OccurrenceOffsets\": [131], \"SurfaceForms\": [\"Dermatologist\"]}, {\"Label\": \"Reader's Digest\", \"Type\": \"M\", \"WikidataId\": \"Q371820\", \"Confidence\": 0.999, \"OccurrenceOffsets\": [163], \"SurfaceForms\": [\"Reader's Digest\"]}], [], [{\"Label\": \"National Football League\", \"Type\": \"O\", \"WikidataId\": \"Q1215884\", \"Confidence\": 1.0, \"OccurrenceOffsets\": [32], \"SurfaceForms\": [\"NFL\"]}], []\n",
      "\n"
     ]
    }
   ],
   "source": [
    "news_df.glimpse()\n"
   ]
  },
  {
   "cell_type": "code",
   "execution_count": 41,
   "metadata": {},
   "outputs": [
    {
     "name": "stdout",
     "output_type": "stream",
     "text": [
      "Rows: 2232748\n",
      "Columns: 5\n",
      "$ impression_id <i64> 1, 2, 3, 4, 5, 6, 7, 8, 9, 10\n",
      "$ user_id       <str> U87243, U598644, U532401, U593596, U239687, U521853, U687515, U192112, U530668, U290933\n",
      "$ time          <str> 11/10/2019 11:30:54 AM, 11/12/2019 1:45:29 PM, 11/13/2019 11:23:03 AM, 11/12/2019 12:24:09 PM, 11/14/2019 8:03:01 PM, 11/11/2019 10:47:31 AM, 11/13/2019 5:31:06 AM, 11/11/2019 9:06:04 AM, 11/11/2019 2:10:15 PM, 11/10/2019 11:54:34 AM\n",
      "$ history       <str> N8668 N39081 N65259 N79529 N73408 N43615 N29379 N32031 N110232 N101921 N12614 N129591 N105760 N60457 N1229 N64932, N56056 N8726 N70353 N67998 N83823 N111108 N107520 N53168 N78756 N106411 N81824 N85691 N16173 N24446 N120926 N19175 N126159 N26373 N72369 N73228 N111873 N88638 N29503 N31055, N128643 N87446 N122948 N9375 N82348 N129412 N54948 N36094 N44660 N3948 N21332 N81364 N83062 N87788 N59280 N31323, N31043 N39592 N4104 N8223 N114581 N92747 N12070 N61321 N40052 N50176 N101119 N76810 N37509, N65250 N122359 N71723 N53796 N41663 N41484 N112765 N100765 N87642 N83576 N33881 N110863 N67875 N100466 N36761 N116312 N82374 N93136 N10659 N4857 N32369 N21104 N96120 N50191 N77001 N59349 N66535 N19719 N127567 N96764 N54850 N61319 N113547 N13277 N36604 N32800 N116279 N73179 N124109 N16608 N98215 N6229 N17492 N64552 N91231 N63676 N67779 N82799 N9375 N26586 N48453 N10711 N101263 N21773 N115066 N70097 N18031 N15471 N454 N56610 N112933 N75756 N72571 N41544 N48112 N42209 N44759 N76970 N69300 N108284 N76557 N104961 N46069 N81745 N117275 N12252 N116750 N18171 N87002 N60556 N45946 N20573 N6718 N50901 N3290 N10869 N40259 N14986 N97548 N51302 N39307 N86320 N89086 N29786 N37094 N38627 N51450 N107878 N126611 N57342 N81982 N87654 N3435 N83253 N123097 N113417 N71728 N100119 N57900 N7391 N13604 N71728 N111704 N3565 N53215 N39384 N44431 N129207 N31418 N32534 N124532 N15922 N118298 N19577 N34004 N104234 N103357 N7992 N87859 N80126 N86141 N4289 N127530 N36450 N91985 N9273 N105191 N2927 N49485 N34520 N129412 N75078 N97753 N88892 N79285 N115007 N68429 N56365 N60132 N91985 N79724 N32641 N29709 N36823 N96616 N29709 N46994 N128125 N100655 N18914 N43911 N119601 N43312 N4012 N102366 N92079 N71665 N54177 N43104 N21264 N44671 N98656 N108393 N94450 N75220 N101271 N59645 N55120 N128115 N262 N117511 N70198 N88893 N9892 N9035 N102952 N117229 N65740 N72408 N117791 N80178 N477 N38485 N104029 N93006 N121168 N29466 N64862 N36573 N61712 N49594 N94499 N66959 N11266 N71922 N114335 N24344 N45083 N90679 N100033 N128429 N72135 N3113 N25166 N89408 N106403 N23264 N5967 N12820 N31820 N93575 N51431 N53933 N121845 N25163 N82045 N10996 N104737 N86842 N52677 N50720 N71857 N1118 N71977 N65749 N124752 N18515 N55558 N93359 N72976 N30755 N98095 N89631 N124966 N59447 N65044 N2664 N23666 N98051 N18548 N24446 N113698 N91597 N61321 N29936 N16202 N3188 N108312 N48258 N4266 N91979 N33197 N107039 N70664 N92747 N14032 N74723 N97466 N82926 N3242 N49418 N22773 N110586 N149 N76018 N39270 N34431 N59033 N26572 N78741 N10705 N13901 N89509 N5326 N94706 N77135 N46477 N5653 N114343 N64300 N48084 N91968 N13434 N73137 N1886 N90966 N18904 N1713 N40765 N120031 N21641 N67466 N35667 N10490 N112667 N108016 N41056 N67497 N120196 N50684 N11952 N41214 N31494 N64035 N70868 N73183 N81315 N78570 N88019 N54753 N75342 N73240 N11653 N116736 N127001 N18681 N97815 N51166 N41083 N93681 N38254 N101083 N7416 N126000 N101119 N78377 N80304 N22444 N98657, N8668 N29136 N128643 N9740 N9375 N52911 N120908 N127225 N4104 N81970 N44660 N98574 N87236 N87788 N87788, N91810 N96438 N104027 N53650, N9740 N59820 N18389 N23320 N12322 N9375 N11563 N39592 N44431 N88892 N50645 N84211 N68745, N67770 N65823 N35599 N8753 N126368 N32221 N84454 N128483 N90966 N18904 N86231, N14678 N71340 N65259 N92085 N31043 N70385 N123395 N33895 N110986 N53605 N46786 N48257 N109598 N46161 N111731 N4279 N73692 N61844 N104364 N61053 N41679 N120705 N117592 N128648 N118268 N807 N35440 N110555 N4398 N39650 N118101 N3370 N59440 N23747 N47575 N6932 N117678 N82028 N86124 N59859 N83508 N128476 N11479 N969 N55422 N96956 N18625\n",
      "$ impressions   <str> N78206-0 N26368-0 N7578-0 N58592-0 N19858-0 N58258-0 N18478-0 N2591-0 N97778-0 N32954-0 N94157-1 N39404-0 N108809-0 N78699-1 N71090-1 N40282-0 N31174-1 N37924-0 N27822-0, N47996-0 N82719-0 N117066-0 N8491-0 N123784-0 N21431-0 N106162-0 N59646-0 N118348-0 N25587-1 N37544-0 N20780-0 N36266-1 N46329-0 N64102-0 N120930-0 N62024-0 N11017-0 N76539-0 N26359-0 N108379-0 N87913-0 N125161-0 N23946-0 N83702-0 N62788-0 N6306-0 N66902-0 N93643-0, N103852-0 N53474-0 N127836-0 N47925-1, N38902-0 N76434-0 N71593-0 N100073-0 N108736-0 N3061-0 N89658-0 N33030-0 N110473-0 N125655-0 N100206-0 N37544-0 N60370-0 N59935-0 N114935-1 N114135-0 N46262-0 N61065-0 N46329-0 N27368-0 N84381-0 N83412-0 N2624-0 N34269-0 N19053-0 N115724-0 N20990-0 N100380-0 N2074-0 N128367-0 N8719-0 N109344-0 N33078-0 N100539-0 N119665-0 N7937-0 N121580-0 N108581-0 N92498-0 N18947-0 N109642-0 N79048-0 N47277-0 N53225-0 N41710-0 N122819-0 N30417-0 N79044-0 N76539-0 N57763-0 N54239-0 N62203-0, N76209-0 N48841-0 N67937-0 N62235-0 N6307-0 N34254-0 N89112-0 N27471-0 N72919-0 N48758-0 N57001-0 N45782-0 N25249-0 N12907-0 N46931-0 N55816-0 N34424-0 N49048-0 N123028-0 N44109-0 N56451-0 N44264-0 N80770-0 N127593-0 N120147-0 N20553-0 N32433-0 N2297-0 N51048-0 N107893-0 N117695-0 N88596-0 N67588-0 N113680-0 N78508-0 N20312-0 N83707-0 N20250-0 N103772-0 N99529-0 N46223-0 N110603-0 N104990-0 N24735-0 N96840-0 N102499-0 N51163-0 N26122-0 N54845-0 N29477-0 N55761-0 N59866-0 N41737-0 N23748-0 N45724-0 N51569-0 N32863-0 N122559-0 N13761-0 N38861-0 N114449-0 N35236-0 N81570-0 N61964-0 N18070-0 N121758-0 N5496-0 N122150-0 N40795-0 N91390-0 N92199-0 N64785-0 N9447-0 N25756-0 N4232-0 N34629-0 N83374-0 N63342-0 N92449-0 N72485-0 N69201-0 N28821-0 N92077-0 N79044-0 N123120-0 N76189-0 N45410-0 N27862-0 N32419-0 N75305-0 N76665-0 N3623-0 N33011-0 N126134-0 N48205-0 N65446-0 N14804-0 N110439-0 N75646-0 N33702-0 N44620-0 N93873-0 N91238-0 N100289-0 N33539-0 N68624-0 N77712-0 N19455-0 N92300-0 N25814-0 N25443-0 N84574-0 N112156-0 N117411-0 N70883-0 N4371-0 N103810-0 N87146-0 N23077-0 N27836-0 N11846-0 N67955-0 N86258-1 N88329-0 N16161-0 N94999-0 N129503-0 N87070-0 N120708-0, N32154-0 N67747-0 N47257-0 N98178-1, N12681-0 N10802-0 N93856-0 N96729-0 N46415-0 N12040-0 N10285-0 N20964-0 N65313-0 N72609-0 N95525-0 N124876-0 N58198-0 N127155-0 N129969-0 N94572-1 N27738-0, N98178-1 N32154-0, N49168-0 N123077-1 N55792-0 N47257-0, N92691-0 N10654-0 N107542-0 N14509-0 N63262-0 N99507-0 N41362-0 N43555-0 N64730-0 N28902-1 N106586-0\n",
      "\n"
     ]
    }
   ],
   "source": [
    "behavior_df.glimpse()\n"
   ]
  },
  {
   "cell_type": "code",
   "execution_count": 46,
   "metadata": {},
   "outputs": [
    {
     "data": {
      "text/html": [
       "<div><style>\n",
       ".dataframe > thead > tr > th,\n",
       ".dataframe > tbody > tr > td {\n",
       "  text-align: right;\n",
       "}\n",
       "</style>\n",
       "<small>shape: (9, 9)</small><table border=\"1\" class=\"dataframe\"><thead><tr><th>describe</th><th>news_id</th><th>category</th><th>subcategory</th><th>title</th><th>abstract</th><th>url</th><th>title_entities</th><th>abstract_entities</th></tr><tr><td>str</td><td>str</td><td>str</td><td>str</td><td>str</td><td>str</td><td>str</td><td>str</td><td>str</td></tr></thead><tbody><tr><td>&quot;count&quot;</td><td>&quot;101282&quot;</td><td>&quot;101282&quot;</td><td>&quot;101282&quot;</td><td>&quot;101282&quot;</td><td>&quot;101282&quot;</td><td>&quot;101282&quot;</td><td>&quot;101282&quot;</td><td>&quot;101282&quot;</td></tr><tr><td>&quot;null_count&quot;</td><td>&quot;0&quot;</td><td>&quot;0&quot;</td><td>&quot;0&quot;</td><td>&quot;0&quot;</td><td>&quot;5403&quot;</td><td>&quot;0&quot;</td><td>&quot;0&quot;</td><td>&quot;3&quot;</td></tr><tr><td>&quot;mean&quot;</td><td>null</td><td>null</td><td>null</td><td>null</td><td>null</td><td>null</td><td>null</td><td>null</td></tr><tr><td>&quot;std&quot;</td><td>null</td><td>null</td><td>null</td><td>null</td><td>null</td><td>null</td><td>null</td><td>null</td></tr><tr><td>&quot;min&quot;</td><td>&quot;N1&quot;</td><td>&quot;autos&quot;</td><td>&quot;ads-latingramm…</td><td>&quot;#10 Volleyball…</td><td>&quot;#4 will make y…</td><td>&quot;[{&quot;Label&quot;: &quot;An…</td><td>&quot;[]&quot;</td><td>&quot;[]&quot;</td></tr><tr><td>&quot;max&quot;</td><td>&quot;N99999&quot;</td><td>&quot;weather&quot;</td><td>&quot;yearinoffbeatg…</td><td>&quot;﻿﻿Princess Cha…</td><td>&quot;﻿UPDATE @ 9:40…</td><td>&quot;https://assets…</td><td>&quot;[{&quot;Label&quot;: &quot;\\u…</td><td>&quot;[{&quot;Label&quot;: &quot;\\u…</td></tr><tr><td>&quot;median&quot;</td><td>null</td><td>null</td><td>null</td><td>null</td><td>null</td><td>null</td><td>null</td><td>null</td></tr><tr><td>&quot;25%&quot;</td><td>null</td><td>null</td><td>null</td><td>null</td><td>null</td><td>null</td><td>null</td><td>null</td></tr><tr><td>&quot;75%&quot;</td><td>null</td><td>null</td><td>null</td><td>null</td><td>null</td><td>null</td><td>null</td><td>null</td></tr></tbody></table></div>"
      ],
      "text/plain": [
       "shape: (9, 9)\n",
       "┌───────────┬─────────┬──────────┬───────────┬───┬───────────┬───────────┬────────────┬────────────┐\n",
       "│ describe  ┆ news_id ┆ category ┆ subcatego ┆ … ┆ abstract  ┆ url       ┆ title_enti ┆ abstract_e │\n",
       "│ ---       ┆ ---     ┆ ---      ┆ ry        ┆   ┆ ---       ┆ ---       ┆ ties       ┆ ntities    │\n",
       "│ str       ┆ str     ┆ str      ┆ ---       ┆   ┆ str       ┆ str       ┆ ---        ┆ ---        │\n",
       "│           ┆         ┆          ┆ str       ┆   ┆           ┆           ┆ str        ┆ str        │\n",
       "╞═══════════╪═════════╪══════════╪═══════════╪═══╪═══════════╪═══════════╪════════════╪════════════╡\n",
       "│ count     ┆ 101282  ┆ 101282   ┆ 101282    ┆ … ┆ 101282    ┆ 101282    ┆ 101282     ┆ 101282     │\n",
       "│ null_coun ┆ 0       ┆ 0        ┆ 0         ┆ … ┆ 5403      ┆ 0         ┆ 0          ┆ 3          │\n",
       "│ t         ┆         ┆          ┆           ┆   ┆           ┆           ┆            ┆            │\n",
       "│ mean      ┆ null    ┆ null     ┆ null      ┆ … ┆ null      ┆ null      ┆ null       ┆ null       │\n",
       "│ std       ┆ null    ┆ null     ┆ null      ┆ … ┆ null      ┆ null      ┆ null       ┆ null       │\n",
       "│ min       ┆ N1      ┆ autos    ┆ ads-latin ┆ … ┆ #4 will   ┆ [{\"Label\" ┆ []         ┆ []         │\n",
       "│           ┆         ┆          ┆ grammys   ┆   ┆ make you  ┆ : \"Animal ┆            ┆            │\n",
       "│           ┆         ┆          ┆           ┆   ┆ forget    ┆ control   ┆            ┆            │\n",
       "│           ┆         ┆          ┆           ┆   ┆ about so… ┆ servi…    ┆            ┆            │\n",
       "│ max       ┆ N99999  ┆ weather  ┆ yearinoff ┆ … ┆ ﻿UPDATE @  ┆ https://a ┆ [{\"Label\": ┆ [{\"Label\": │\n",
       "│           ┆         ┆          ┆ beatgoodn ┆   ┆ 9:40      ┆ ssets.msn ┆ \"\\u014ckam ┆ \"\\u0243\",  │\n",
       "│           ┆         ┆          ┆ ews       ┆   ┆ a.m.:     ┆ .com/labs ┆ i\",        ┆ \"Type\":    │\n",
       "│           ┆         ┆          ┆           ┆   ┆           ┆ /mind…    ┆ \"Type\":…   ┆ \"U\"…       │\n",
       "│ median    ┆ null    ┆ null     ┆ null      ┆ … ┆ null      ┆ null      ┆ null       ┆ null       │\n",
       "│ 25%       ┆ null    ┆ null     ┆ null      ┆ … ┆ null      ┆ null      ┆ null       ┆ null       │\n",
       "│ 75%       ┆ null    ┆ null     ┆ null      ┆ … ┆ null      ┆ null      ┆ null       ┆ null       │\n",
       "└───────────┴─────────┴──────────┴───────────┴───┴───────────┴───────────┴────────────┴────────────┘"
      ]
     },
     "execution_count": 46,
     "metadata": {},
     "output_type": "execute_result"
    }
   ],
   "source": [
    "news_df.describe()\n"
   ]
  },
  {
   "cell_type": "code",
   "execution_count": 52,
   "metadata": {},
   "outputs": [],
   "source": [
    "# ユーザごとのアクション数\n",
    "# 各ユーザの継続率\n",
    "# どんなカテゴリの記事が人気か？\n",
    "\n",
    "user_impression_cnt = behavior_df.groupby(\"user_id\").count().sort(\"count\", descending=True)\n",
    "# 分布をグラフにしても良さそう。"
   ]
  },
  {
   "cell_type": "code",
   "execution_count": 54,
   "metadata": {},
   "outputs": [
    {
     "data": {
      "image/png": "[encoded data removed]",
      "text/plain": [
       "<Figure size 640x480 with 1 Axes>"
      ]
     },
     "metadata": {},
     "output_type": "display_data"
    }
   ],
   "source": [
    "bin_width = 10\n",
    "plt.hist(user_impression_cnt[\"count\"], bins=bin_width)\n",
    "plt.show()\n",
    "\n",
    "# ほとんどが 0 ~ 10だなー。"
   ]
  },
  {
   "cell_type": "code",
   "execution_count": 55,
   "metadata": {},
   "outputs": [
    {
     "data": {
      "text/html": [
       "<div><style>\n",
       ".dataframe > thead > tr > th,\n",
       ".dataframe > tbody > tr > td {\n",
       "  text-align: right;\n",
       "}\n",
       "</style>\n",
       "<small>shape: (5, 8)</small><table border=\"1\" class=\"dataframe\"><thead><tr><th>news_id</th><th>category</th><th>subcategory</th><th>title</th><th>abstract</th><th>url</th><th>title_entities</th><th>abstract_entities</th></tr><tr><td>str</td><td>str</td><td>str</td><td>str</td><td>str</td><td>str</td><td>str</td><td>str</td></tr></thead><tbody><tr><td>&quot;N88753&quot;</td><td>&quot;lifestyle&quot;</td><td>&quot;lifestyleroyal…</td><td>&quot;The Brands Que…</td><td>&quot;Shop the noteb…</td><td>&quot;https://assets…</td><td>&quot;[{&quot;Label&quot;: &quot;Pr…</td><td>&quot;[]&quot;</td></tr><tr><td>&quot;N45436&quot;</td><td>&quot;news&quot;</td><td>&quot;newsscienceand…</td><td>&quot;Walmart Slashe…</td><td>&quot;Apple&#x27;s new iP…</td><td>&quot;https://assets…</td><td>&quot;[{&quot;Label&quot;: &quot;IP…</td><td>&quot;[{&quot;Label&quot;: &quot;IP…</td></tr><tr><td>&quot;N23144&quot;</td><td>&quot;health&quot;</td><td>&quot;weightloss&quot;</td><td>&quot;50 Worst Habit…</td><td>&quot;These seemingl…</td><td>&quot;https://assets…</td><td>&quot;[{&quot;Label&quot;: &quot;Ad…</td><td>&quot;[{&quot;Label&quot;: &quot;Ad…</td></tr><tr><td>&quot;N86255&quot;</td><td>&quot;health&quot;</td><td>&quot;medical&quot;</td><td>&quot;Dispose of unw…</td><td>null</td><td>&quot;https://assets…</td><td>&quot;[{&quot;Label&quot;: &quot;Dr…</td><td>&quot;[]&quot;</td></tr><tr><td>&quot;N93187&quot;</td><td>&quot;news&quot;</td><td>&quot;newsworld&quot;</td><td>&quot;The Cost of Tr…</td><td>&quot;Lt. Ivan Molch…</td><td>&quot;https://assets…</td><td>&quot;[]&quot;</td><td>&quot;[{&quot;Label&quot;: &quot;Uk…</td></tr></tbody></table></div>"
      ],
      "text/plain": [
       "shape: (5, 8)\n",
       "┌─────────┬───────────┬───────────┬────────────┬────────────┬────────────┬────────────┬────────────┐\n",
       "│ news_id ┆ category  ┆ subcatego ┆ title      ┆ abstract   ┆ url        ┆ title_enti ┆ abstract_e │\n",
       "│ ---     ┆ ---       ┆ ry        ┆ ---        ┆ ---        ┆ ---        ┆ ties       ┆ ntities    │\n",
       "│ str     ┆ str       ┆ ---       ┆ str        ┆ str        ┆ str        ┆ ---        ┆ ---        │\n",
       "│         ┆           ┆ str       ┆            ┆            ┆            ┆ str        ┆ str        │\n",
       "╞═════════╪═══════════╪═══════════╪════════════╪════════════╪════════════╪════════════╪════════════╡\n",
       "│ N88753  ┆ lifestyle ┆ lifestyle ┆ The Brands ┆ Shop the   ┆ https://as ┆ [{\"Label\": ┆ []         │\n",
       "│         ┆           ┆ royals    ┆ Queen      ┆ notebooks, ┆ sets.msn.c ┆ \"Prince    ┆            │\n",
       "│         ┆           ┆           ┆ Elizabeth, ┆ jackets,   ┆ om/labs/mi ┆ Philip,    ┆            │\n",
       "│         ┆           ┆           ┆ Prin…      ┆ and…       ┆ nd…        ┆ Duke …     ┆            │\n",
       "│ N45436  ┆ news      ┆ newsscien ┆ Walmart    ┆ Apple's    ┆ https://as ┆ [{\"Label\": ┆ [{\"Label\": │\n",
       "│         ┆           ┆ ceandtech ┆ Slashes    ┆ new iPad   ┆ sets.msn.c ┆ \"IPad\",    ┆ \"IPad\",    │\n",
       "│         ┆           ┆ nology    ┆ Prices on  ┆ releases   ┆ om/labs/mi ┆ \"Type\":    ┆ \"Type\":    │\n",
       "│         ┆           ┆           ┆ Last-G…    ┆ bring …    ┆ nd…        ┆ \"J\", …     ┆ \"J\", …     │\n",
       "│ N23144  ┆ health    ┆ weightlos ┆ 50 Worst   ┆ These      ┆ https://as ┆ [{\"Label\": ┆ [{\"Label\": │\n",
       "│         ┆           ┆ s         ┆ Habits For ┆ seemingly  ┆ sets.msn.c ┆ \"Adipose   ┆ \"Adipose   │\n",
       "│         ┆           ┆           ┆ Belly Fat  ┆ harmless   ┆ om/labs/mi ┆ tissue\",   ┆ tissue\",   │\n",
       "│         ┆           ┆           ┆            ┆ habits …   ┆ nd…        ┆ \"Ty…       ┆ \"Ty…       │\n",
       "│ N86255  ┆ health    ┆ medical   ┆ Dispose of ┆ null       ┆ https://as ┆ [{\"Label\": ┆ []         │\n",
       "│         ┆           ┆           ┆ unwanted   ┆            ┆ sets.msn.c ┆ \"Drug Enfo ┆            │\n",
       "│         ┆           ┆           ┆ prescripti ┆            ┆ om/labs/mi ┆ rcement    ┆            │\n",
       "│         ┆           ┆           ┆ on…        ┆            ┆ nd…        ┆ Adm…       ┆            │\n",
       "│ N93187  ┆ news      ┆ newsworld ┆ The Cost   ┆ Lt. Ivan   ┆ https://as ┆ []         ┆ [{\"Label\": │\n",
       "│         ┆           ┆           ┆ of Trump's ┆ Molchanets ┆ sets.msn.c ┆            ┆ \"Ukraine\", │\n",
       "│         ┆           ┆           ┆ Aid Freeze ┆ peeked     ┆ om/labs/mi ┆            ┆ \"Type\":    │\n",
       "│         ┆           ┆           ┆ i…         ┆ over …     ┆ nd…        ┆            ┆ \"G…        │\n",
       "└─────────┴───────────┴───────────┴────────────┴────────────┴────────────┴────────────┴────────────┘"
      ]
     },
     "execution_count": 55,
     "metadata": {},
     "output_type": "execute_result"
    }
   ],
   "source": [
    "news_df.head()\n"
   ]
  },
  {
   "cell_type": "code",
   "execution_count": 59,
   "metadata": {},
   "outputs": [
    {
     "data": {
      "text/plain": [
       "['N78206-0',\n",
       " 'N26368-0',\n",
       " 'N7578-0',\n",
       " 'N58592-0',\n",
       " 'N19858-0',\n",
       " 'N58258-0',\n",
       " 'N18478-0',\n",
       " 'N2591-0',\n",
       " 'N97778-0',\n",
       " 'N32954-0',\n",
       " 'N94157-1',\n",
       " 'N39404-0',\n",
       " 'N108809-0',\n",
       " 'N78699-1',\n",
       " 'N71090-1',\n",
       " 'N40282-0',\n",
       " 'N31174-1',\n",
       " 'N37924-0',\n",
       " 'N27822-0']"
      ]
     },
     "execution_count": 59,
     "metadata": {},
     "output_type": "execute_result"
    }
   ],
   "source": [
    "behavior_df[\"impressions\"][0].split(\" \")\n",
    "# Clicked "
   ]
  },
  {
   "cell_type": "code",
   "execution_count": null,
   "metadata": {},
   "outputs": [],
   "source": []
  }
 ],
 "metadata": {
  "kernelspec": {
   "display_name": ".venv",
   "language": "python",
   "name": "python3"
  },
  "language_info": {
   "codemirror_mode": {
    "name": "ipython",
    "version": 3
   },
   "file_extension": ".py",
   "mimetype": "text/x-python",
   "name": "python",
   "nbconvert_exporter": "python",
   "pygments_lexer": "ipython3",
   "version": "3.11.3"
  },
  "orig_nbformat": 4
 },
 "nbformat": 4,
 "nbformat_minor": 2
}
