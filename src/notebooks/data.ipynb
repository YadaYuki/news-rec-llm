{
 "cells": [
  {
   "cell_type": "code",
   "execution_count": 1,
   "metadata": {},
   "outputs": [],
   "source": [
    "from src.const.path import MIND_SMALL_VAL_DATASET_DIR\n",
    "import polars as pl\n",
    "\n",
    "behavior_df = pl.read_csv(\n",
    "    MIND_SMALL_VAL_DATASET_DIR / \"behaviors.tsv\", separator=\"\\t\", encoding=\"utf8-lossy\", has_header=False\n",
    ")\n"
   ]
  },
  {
   "cell_type": "code",
   "execution_count": 2,
   "metadata": {},
   "outputs": [],
   "source": [
    "behavior_df = behavior_df.rename(\n",
    "    {\n",
    "        \"column_1\": \"impression_id\",\n",
    "        \"column_2\": \"user_id\",\n",
    "        \"column_3\": \"time\",\n",
    "        \"column_4\": \"history\",\n",
    "        \"column_5\": \"impressions\",\n",
    "    }\n",
    ")\n"
   ]
  },
  {
   "cell_type": "code",
   "execution_count": 3,
   "metadata": {},
   "outputs": [],
   "source": [
    "behavior_df = behavior_df.with_columns((pl.col(\"impressions\").str.split(\" \")).alias(\"impression_news_list\"))\n"
   ]
  },
  {
   "cell_type": "code",
   "execution_count": 4,
   "metadata": {},
   "outputs": [],
   "source": [
    "behavior_df = behavior_df.explode(pl.col(\"impression_news_list\"))\n"
   ]
  },
  {
   "cell_type": "code",
   "execution_count": 19,
   "metadata": {},
   "outputs": [
    {
     "data": {
      "text/html": [
       "<div><style>\n",
       ".dataframe > thead > tr > th,\n",
       ".dataframe > tbody > tr > td {\n",
       "  text-align: right;\n",
       "}\n",
       "</style>\n",
       "<small>shape: (2_740_998, 6)</small><table border=\"1\" class=\"dataframe\"><thead><tr><th>impression_id</th><th>user_id</th><th>time</th><th>history</th><th>impressions</th><th>impression_news_list</th></tr><tr><td>i64</td><td>str</td><td>str</td><td>str</td><td>str</td><td>str</td></tr></thead><tbody><tr><td>1</td><td>&quot;U80234&quot;</td><td>&quot;11/15/2019 12:…</td><td>&quot;N55189 N46039 …</td><td>&quot;N28682-0 N4874…</td><td>&quot;N28682-0&quot;</td></tr><tr><td>1</td><td>&quot;U80234&quot;</td><td>&quot;11/15/2019 12:…</td><td>&quot;N55189 N46039 …</td><td>&quot;N28682-0 N4874…</td><td>&quot;N48740-0&quot;</td></tr><tr><td>1</td><td>&quot;U80234&quot;</td><td>&quot;11/15/2019 12:…</td><td>&quot;N55189 N46039 …</td><td>&quot;N28682-0 N4874…</td><td>&quot;N31958-1&quot;</td></tr><tr><td>1</td><td>&quot;U80234&quot;</td><td>&quot;11/15/2019 12:…</td><td>&quot;N55189 N46039 …</td><td>&quot;N28682-0 N4874…</td><td>&quot;N34130-0&quot;</td></tr><tr><td>1</td><td>&quot;U80234&quot;</td><td>&quot;11/15/2019 12:…</td><td>&quot;N55189 N46039 …</td><td>&quot;N28682-0 N4874…</td><td>&quot;N6916-0&quot;</td></tr><tr><td>1</td><td>&quot;U80234&quot;</td><td>&quot;11/15/2019 12:…</td><td>&quot;N55189 N46039 …</td><td>&quot;N28682-0 N4874…</td><td>&quot;N5472-0&quot;</td></tr><tr><td>1</td><td>&quot;U80234&quot;</td><td>&quot;11/15/2019 12:…</td><td>&quot;N55189 N46039 …</td><td>&quot;N28682-0 N4874…</td><td>&quot;N50775-0&quot;</td></tr><tr><td>1</td><td>&quot;U80234&quot;</td><td>&quot;11/15/2019 12:…</td><td>&quot;N55189 N46039 …</td><td>&quot;N28682-0 N4874…</td><td>&quot;N24802-0&quot;</td></tr><tr><td>1</td><td>&quot;U80234&quot;</td><td>&quot;11/15/2019 12:…</td><td>&quot;N55189 N46039 …</td><td>&quot;N28682-0 N4874…</td><td>&quot;N19990-0&quot;</td></tr><tr><td>1</td><td>&quot;U80234&quot;</td><td>&quot;11/15/2019 12:…</td><td>&quot;N55189 N46039 …</td><td>&quot;N28682-0 N4874…</td><td>&quot;N33176-0&quot;</td></tr><tr><td>1</td><td>&quot;U80234&quot;</td><td>&quot;11/15/2019 12:…</td><td>&quot;N55189 N46039 …</td><td>&quot;N28682-0 N4874…</td><td>&quot;N62365-0&quot;</td></tr><tr><td>1</td><td>&quot;U80234&quot;</td><td>&quot;11/15/2019 12:…</td><td>&quot;N55189 N46039 …</td><td>&quot;N28682-0 N4874…</td><td>&quot;N5940-0&quot;</td></tr><tr><td>&hellip;</td><td>&hellip;</td><td>&hellip;</td><td>&hellip;</td><td>&hellip;</td><td>&hellip;</td></tr><tr><td>73151</td><td>&quot;U8786&quot;</td><td>&quot;11/15/2019 8:2…</td><td>&quot;N3046 N356 N20…</td><td>&quot;N23692-0 N1999…</td><td>&quot;N19611-0&quot;</td></tr><tr><td>73152</td><td>&quot;U68182&quot;</td><td>&quot;11/15/2019 11:…</td><td>&quot;N20297 N53568 …</td><td>&quot;N29862-0 N5472…</td><td>&quot;N29862-0&quot;</td></tr><tr><td>73152</td><td>&quot;U68182&quot;</td><td>&quot;11/15/2019 11:…</td><td>&quot;N20297 N53568 …</td><td>&quot;N29862-0 N5472…</td><td>&quot;N5472-0&quot;</td></tr><tr><td>73152</td><td>&quot;U68182&quot;</td><td>&quot;11/15/2019 11:…</td><td>&quot;N20297 N53568 …</td><td>&quot;N29862-0 N5472…</td><td>&quot;N21679-1&quot;</td></tr><tr><td>73152</td><td>&quot;U68182&quot;</td><td>&quot;11/15/2019 11:…</td><td>&quot;N20297 N53568 …</td><td>&quot;N29862-0 N5472…</td><td>&quot;N6400-0&quot;</td></tr><tr><td>73152</td><td>&quot;U68182&quot;</td><td>&quot;11/15/2019 11:…</td><td>&quot;N20297 N53568 …</td><td>&quot;N29862-0 N5472…</td><td>&quot;N53572-0&quot;</td></tr><tr><td>73152</td><td>&quot;U68182&quot;</td><td>&quot;11/15/2019 11:…</td><td>&quot;N20297 N53568 …</td><td>&quot;N29862-0 N5472…</td><td>&quot;N50775-0&quot;</td></tr><tr><td>73152</td><td>&quot;U68182&quot;</td><td>&quot;11/15/2019 11:…</td><td>&quot;N20297 N53568 …</td><td>&quot;N29862-0 N5472…</td><td>&quot;N48740-0&quot;</td></tr><tr><td>73152</td><td>&quot;U68182&quot;</td><td>&quot;11/15/2019 11:…</td><td>&quot;N20297 N53568 …</td><td>&quot;N29862-0 N5472…</td><td>&quot;N55237-0&quot;</td></tr><tr><td>73152</td><td>&quot;U68182&quot;</td><td>&quot;11/15/2019 11:…</td><td>&quot;N20297 N53568 …</td><td>&quot;N29862-0 N5472…</td><td>&quot;N31958-0&quot;</td></tr><tr><td>73152</td><td>&quot;U68182&quot;</td><td>&quot;11/15/2019 11:…</td><td>&quot;N20297 N53568 …</td><td>&quot;N29862-0 N5472…</td><td>&quot;N29091-0&quot;</td></tr><tr><td>73152</td><td>&quot;U68182&quot;</td><td>&quot;11/15/2019 11:…</td><td>&quot;N20297 N53568 …</td><td>&quot;N29862-0 N5472…</td><td>&quot;N24802-0&quot;</td></tr></tbody></table></div>"
      ],
      "text/plain": [
       "shape: (2_740_998, 6)\n",
       "┌───────────────┬─────────┬─────────────┬───────────────┬─────────────────────┬────────────────────┐\n",
       "│ impression_id ┆ user_id ┆ time        ┆ history       ┆ impressions         ┆ impression_news_li │\n",
       "│ ---           ┆ ---     ┆ ---         ┆ ---           ┆ ---                 ┆ st                 │\n",
       "│ i64           ┆ str     ┆ str         ┆ str           ┆ str                 ┆ ---                │\n",
       "│               ┆         ┆             ┆               ┆                     ┆ str                │\n",
       "╞═══════════════╪═════════╪═════════════╪═══════════════╪═════════════════════╪════════════════════╡\n",
       "│ 1             ┆ U80234  ┆ 11/15/2019  ┆ N55189 N46039 ┆ N28682-0 N48740-0   ┆ N28682-0           │\n",
       "│               ┆         ┆ 12:37:50 PM ┆ N51741 N53234 ┆ N31958-1 N3413…     ┆                    │\n",
       "│               ┆         ┆             ┆ N112…         ┆                     ┆                    │\n",
       "│ 1             ┆ U80234  ┆ 11/15/2019  ┆ N55189 N46039 ┆ N28682-0 N48740-0   ┆ N48740-0           │\n",
       "│               ┆         ┆ 12:37:50 PM ┆ N51741 N53234 ┆ N31958-1 N3413…     ┆                    │\n",
       "│               ┆         ┆             ┆ N112…         ┆                     ┆                    │\n",
       "│ 1             ┆ U80234  ┆ 11/15/2019  ┆ N55189 N46039 ┆ N28682-0 N48740-0   ┆ N31958-1           │\n",
       "│               ┆         ┆ 12:37:50 PM ┆ N51741 N53234 ┆ N31958-1 N3413…     ┆                    │\n",
       "│               ┆         ┆             ┆ N112…         ┆                     ┆                    │\n",
       "│ 1             ┆ U80234  ┆ 11/15/2019  ┆ N55189 N46039 ┆ N28682-0 N48740-0   ┆ N34130-0           │\n",
       "│               ┆         ┆ 12:37:50 PM ┆ N51741 N53234 ┆ N31958-1 N3413…     ┆                    │\n",
       "│               ┆         ┆             ┆ N112…         ┆                     ┆                    │\n",
       "│ …             ┆ …       ┆ …           ┆ …             ┆ …                   ┆ …                  │\n",
       "│ 73152         ┆ U68182  ┆ 11/15/2019  ┆ N20297 N53568 ┆ N29862-0 N5472-0    ┆ N55237-0           │\n",
       "│               ┆         ┆ 11:54:34 AM ┆ N4690 N60608  ┆ N21679-1 N6400-…    ┆                    │\n",
       "│               ┆         ┆             ┆ N4370…        ┆                     ┆                    │\n",
       "│ 73152         ┆ U68182  ┆ 11/15/2019  ┆ N20297 N53568 ┆ N29862-0 N5472-0    ┆ N31958-0           │\n",
       "│               ┆         ┆ 11:54:34 AM ┆ N4690 N60608  ┆ N21679-1 N6400-…    ┆                    │\n",
       "│               ┆         ┆             ┆ N4370…        ┆                     ┆                    │\n",
       "│ 73152         ┆ U68182  ┆ 11/15/2019  ┆ N20297 N53568 ┆ N29862-0 N5472-0    ┆ N29091-0           │\n",
       "│               ┆         ┆ 11:54:34 AM ┆ N4690 N60608  ┆ N21679-1 N6400-…    ┆                    │\n",
       "│               ┆         ┆             ┆ N4370…        ┆                     ┆                    │\n",
       "│ 73152         ┆ U68182  ┆ 11/15/2019  ┆ N20297 N53568 ┆ N29862-0 N5472-0    ┆ N24802-0           │\n",
       "│               ┆         ┆ 11:54:34 AM ┆ N4690 N60608  ┆ N21679-1 N6400-…    ┆                    │\n",
       "│               ┆         ┆             ┆ N4370…        ┆                     ┆                    │\n",
       "└───────────────┴─────────┴─────────────┴───────────────┴─────────────────────┴────────────────────┘"
      ]
     },
     "execution_count": 19,
     "metadata": {},
     "output_type": "execute_result"
    }
   ],
   "source": [
    "behavior_df\n"
   ]
  },
  {
   "cell_type": "code",
   "execution_count": 22,
   "metadata": {},
   "outputs": [
    {
     "data": {
      "text/html": [
       "<div><style>\n",
       ".dataframe > thead > tr > th,\n",
       ".dataframe > tbody > tr > td {\n",
       "  text-align: right;\n",
       "}\n",
       "</style>\n",
       "<small>shape: (2_740_998, 6)</small><table border=\"1\" class=\"dataframe\"><thead><tr><th>impression_id</th><th>user_id</th><th>time</th><th>history</th><th>impressions</th><th>impression_news_list</th></tr><tr><td>i64</td><td>str</td><td>str</td><td>str</td><td>str</td><td>str</td></tr></thead><tbody><tr><td>1</td><td>&quot;U80234&quot;</td><td>&quot;11/15/2019 12:…</td><td>&quot;N55189 N46039 …</td><td>&quot;N28682-0 N4874…</td><td>&quot;N28682-0&quot;</td></tr><tr><td>1</td><td>&quot;U80234&quot;</td><td>&quot;11/15/2019 12:…</td><td>&quot;N55189 N46039 …</td><td>&quot;N28682-0 N4874…</td><td>&quot;N48740-0&quot;</td></tr><tr><td>1</td><td>&quot;U80234&quot;</td><td>&quot;11/15/2019 12:…</td><td>&quot;N55189 N46039 …</td><td>&quot;N28682-0 N4874…</td><td>&quot;N31958-1&quot;</td></tr><tr><td>1</td><td>&quot;U80234&quot;</td><td>&quot;11/15/2019 12:…</td><td>&quot;N55189 N46039 …</td><td>&quot;N28682-0 N4874…</td><td>&quot;N34130-0&quot;</td></tr><tr><td>1</td><td>&quot;U80234&quot;</td><td>&quot;11/15/2019 12:…</td><td>&quot;N55189 N46039 …</td><td>&quot;N28682-0 N4874…</td><td>&quot;N6916-0&quot;</td></tr><tr><td>1</td><td>&quot;U80234&quot;</td><td>&quot;11/15/2019 12:…</td><td>&quot;N55189 N46039 …</td><td>&quot;N28682-0 N4874…</td><td>&quot;N5472-0&quot;</td></tr><tr><td>1</td><td>&quot;U80234&quot;</td><td>&quot;11/15/2019 12:…</td><td>&quot;N55189 N46039 …</td><td>&quot;N28682-0 N4874…</td><td>&quot;N50775-0&quot;</td></tr><tr><td>1</td><td>&quot;U80234&quot;</td><td>&quot;11/15/2019 12:…</td><td>&quot;N55189 N46039 …</td><td>&quot;N28682-0 N4874…</td><td>&quot;N24802-0&quot;</td></tr><tr><td>1</td><td>&quot;U80234&quot;</td><td>&quot;11/15/2019 12:…</td><td>&quot;N55189 N46039 …</td><td>&quot;N28682-0 N4874…</td><td>&quot;N19990-0&quot;</td></tr><tr><td>1</td><td>&quot;U80234&quot;</td><td>&quot;11/15/2019 12:…</td><td>&quot;N55189 N46039 …</td><td>&quot;N28682-0 N4874…</td><td>&quot;N33176-0&quot;</td></tr><tr><td>1</td><td>&quot;U80234&quot;</td><td>&quot;11/15/2019 12:…</td><td>&quot;N55189 N46039 …</td><td>&quot;N28682-0 N4874…</td><td>&quot;N62365-0&quot;</td></tr><tr><td>1</td><td>&quot;U80234&quot;</td><td>&quot;11/15/2019 12:…</td><td>&quot;N55189 N46039 …</td><td>&quot;N28682-0 N4874…</td><td>&quot;N5940-0&quot;</td></tr><tr><td>&hellip;</td><td>&hellip;</td><td>&hellip;</td><td>&hellip;</td><td>&hellip;</td><td>&hellip;</td></tr><tr><td>73151</td><td>&quot;U8786&quot;</td><td>&quot;11/15/2019 8:2…</td><td>&quot;N3046 N356 N20…</td><td>&quot;N23692-0 N1999…</td><td>&quot;N19611-0&quot;</td></tr><tr><td>73152</td><td>&quot;U68182&quot;</td><td>&quot;11/15/2019 11:…</td><td>&quot;N20297 N53568 …</td><td>&quot;N29862-0 N5472…</td><td>&quot;N29862-0&quot;</td></tr><tr><td>73152</td><td>&quot;U68182&quot;</td><td>&quot;11/15/2019 11:…</td><td>&quot;N20297 N53568 …</td><td>&quot;N29862-0 N5472…</td><td>&quot;N5472-0&quot;</td></tr><tr><td>73152</td><td>&quot;U68182&quot;</td><td>&quot;11/15/2019 11:…</td><td>&quot;N20297 N53568 …</td><td>&quot;N29862-0 N5472…</td><td>&quot;N21679-1&quot;</td></tr><tr><td>73152</td><td>&quot;U68182&quot;</td><td>&quot;11/15/2019 11:…</td><td>&quot;N20297 N53568 …</td><td>&quot;N29862-0 N5472…</td><td>&quot;N6400-0&quot;</td></tr><tr><td>73152</td><td>&quot;U68182&quot;</td><td>&quot;11/15/2019 11:…</td><td>&quot;N20297 N53568 …</td><td>&quot;N29862-0 N5472…</td><td>&quot;N53572-0&quot;</td></tr><tr><td>73152</td><td>&quot;U68182&quot;</td><td>&quot;11/15/2019 11:…</td><td>&quot;N20297 N53568 …</td><td>&quot;N29862-0 N5472…</td><td>&quot;N50775-0&quot;</td></tr><tr><td>73152</td><td>&quot;U68182&quot;</td><td>&quot;11/15/2019 11:…</td><td>&quot;N20297 N53568 …</td><td>&quot;N29862-0 N5472…</td><td>&quot;N48740-0&quot;</td></tr><tr><td>73152</td><td>&quot;U68182&quot;</td><td>&quot;11/15/2019 11:…</td><td>&quot;N20297 N53568 …</td><td>&quot;N29862-0 N5472…</td><td>&quot;N55237-0&quot;</td></tr><tr><td>73152</td><td>&quot;U68182&quot;</td><td>&quot;11/15/2019 11:…</td><td>&quot;N20297 N53568 …</td><td>&quot;N29862-0 N5472…</td><td>&quot;N31958-0&quot;</td></tr><tr><td>73152</td><td>&quot;U68182&quot;</td><td>&quot;11/15/2019 11:…</td><td>&quot;N20297 N53568 …</td><td>&quot;N29862-0 N5472…</td><td>&quot;N29091-0&quot;</td></tr><tr><td>73152</td><td>&quot;U68182&quot;</td><td>&quot;11/15/2019 11:…</td><td>&quot;N20297 N53568 …</td><td>&quot;N29862-0 N5472…</td><td>&quot;N24802-0&quot;</td></tr></tbody></table></div>"
      ],
      "text/plain": [
       "shape: (2_740_998, 6)\n",
       "┌───────────────┬─────────┬─────────────┬───────────────┬─────────────────────┬────────────────────┐\n",
       "│ impression_id ┆ user_id ┆ time        ┆ history       ┆ impressions         ┆ impression_news_li │\n",
       "│ ---           ┆ ---     ┆ ---         ┆ ---           ┆ ---                 ┆ st                 │\n",
       "│ i64           ┆ str     ┆ str         ┆ str           ┆ str                 ┆ ---                │\n",
       "│               ┆         ┆             ┆               ┆                     ┆ str                │\n",
       "╞═══════════════╪═════════╪═════════════╪═══════════════╪═════════════════════╪════════════════════╡\n",
       "│ 1             ┆ U80234  ┆ 11/15/2019  ┆ N55189 N46039 ┆ N28682-0 N48740-0   ┆ N28682-0           │\n",
       "│               ┆         ┆ 12:37:50 PM ┆ N51741 N53234 ┆ N31958-1 N3413…     ┆                    │\n",
       "│               ┆         ┆             ┆ N112…         ┆                     ┆                    │\n",
       "│ 1             ┆ U80234  ┆ 11/15/2019  ┆ N55189 N46039 ┆ N28682-0 N48740-0   ┆ N48740-0           │\n",
       "│               ┆         ┆ 12:37:50 PM ┆ N51741 N53234 ┆ N31958-1 N3413…     ┆                    │\n",
       "│               ┆         ┆             ┆ N112…         ┆                     ┆                    │\n",
       "│ 1             ┆ U80234  ┆ 11/15/2019  ┆ N55189 N46039 ┆ N28682-0 N48740-0   ┆ N31958-1           │\n",
       "│               ┆         ┆ 12:37:50 PM ┆ N51741 N53234 ┆ N31958-1 N3413…     ┆                    │\n",
       "│               ┆         ┆             ┆ N112…         ┆                     ┆                    │\n",
       "│ 1             ┆ U80234  ┆ 11/15/2019  ┆ N55189 N46039 ┆ N28682-0 N48740-0   ┆ N34130-0           │\n",
       "│               ┆         ┆ 12:37:50 PM ┆ N51741 N53234 ┆ N31958-1 N3413…     ┆                    │\n",
       "│               ┆         ┆             ┆ N112…         ┆                     ┆                    │\n",
       "│ …             ┆ …       ┆ …           ┆ …             ┆ …                   ┆ …                  │\n",
       "│ 73152         ┆ U68182  ┆ 11/15/2019  ┆ N20297 N53568 ┆ N29862-0 N5472-0    ┆ N55237-0           │\n",
       "│               ┆         ┆ 11:54:34 AM ┆ N4690 N60608  ┆ N21679-1 N6400-…    ┆                    │\n",
       "│               ┆         ┆             ┆ N4370…        ┆                     ┆                    │\n",
       "│ 73152         ┆ U68182  ┆ 11/15/2019  ┆ N20297 N53568 ┆ N29862-0 N5472-0    ┆ N31958-0           │\n",
       "│               ┆         ┆ 11:54:34 AM ┆ N4690 N60608  ┆ N21679-1 N6400-…    ┆                    │\n",
       "│               ┆         ┆             ┆ N4370…        ┆                     ┆                    │\n",
       "│ 73152         ┆ U68182  ┆ 11/15/2019  ┆ N20297 N53568 ┆ N29862-0 N5472-0    ┆ N29091-0           │\n",
       "│               ┆         ┆ 11:54:34 AM ┆ N4690 N60608  ┆ N21679-1 N6400-…    ┆                    │\n",
       "│               ┆         ┆             ┆ N4370…        ┆                     ┆                    │\n",
       "│ 73152         ┆ U68182  ┆ 11/15/2019  ┆ N20297 N53568 ┆ N29862-0 N5472-0    ┆ N24802-0           │\n",
       "│               ┆         ┆ 11:54:34 AM ┆ N4690 N60608  ┆ N21679-1 N6400-…    ┆                    │\n",
       "│               ┆         ┆             ┆ N4370…        ┆                     ┆                    │\n",
       "└───────────────┴─────────┴─────────────┴───────────────┴─────────────────────┴────────────────────┘"
      ]
     },
     "execution_count": 22,
     "metadata": {},
     "output_type": "execute_result"
    }
   ],
   "source": [
    "behavior_df\n"
   ]
  },
  {
   "cell_type": "code",
   "execution_count": 32,
   "metadata": {},
   "outputs": [
    {
     "data": {
      "text/html": [
       "<div><style>\n",
       ".dataframe > thead > tr > th,\n",
       ".dataframe > tbody > tr > td {\n",
       "  text-align: right;\n",
       "}\n",
       "</style>\n",
       "<small>shape: (2_740_998, 6)</small><table border=\"1\" class=\"dataframe\"><thead><tr><th>impression_id</th><th>user_id</th><th>news_id</th><th>time</th><th>history</th><th>clicked</th></tr><tr><td>i64</td><td>str</td><td>str</td><td>str</td><td>str</td><td>i32</td></tr></thead><tbody><tr><td>1</td><td>&quot;U80234&quot;</td><td>&quot;N28682&quot;</td><td>&quot;11/15/2019 12:…</td><td>&quot;N55189 N46039 …</td><td>0</td></tr><tr><td>1</td><td>&quot;U80234&quot;</td><td>&quot;N48740&quot;</td><td>&quot;11/15/2019 12:…</td><td>&quot;N55189 N46039 …</td><td>0</td></tr><tr><td>1</td><td>&quot;U80234&quot;</td><td>&quot;N31958&quot;</td><td>&quot;11/15/2019 12:…</td><td>&quot;N55189 N46039 …</td><td>1</td></tr><tr><td>1</td><td>&quot;U80234&quot;</td><td>&quot;N34130&quot;</td><td>&quot;11/15/2019 12:…</td><td>&quot;N55189 N46039 …</td><td>0</td></tr><tr><td>1</td><td>&quot;U80234&quot;</td><td>&quot;N6916&quot;</td><td>&quot;11/15/2019 12:…</td><td>&quot;N55189 N46039 …</td><td>0</td></tr><tr><td>1</td><td>&quot;U80234&quot;</td><td>&quot;N5472&quot;</td><td>&quot;11/15/2019 12:…</td><td>&quot;N55189 N46039 …</td><td>0</td></tr><tr><td>1</td><td>&quot;U80234&quot;</td><td>&quot;N50775&quot;</td><td>&quot;11/15/2019 12:…</td><td>&quot;N55189 N46039 …</td><td>0</td></tr><tr><td>1</td><td>&quot;U80234&quot;</td><td>&quot;N24802&quot;</td><td>&quot;11/15/2019 12:…</td><td>&quot;N55189 N46039 …</td><td>0</td></tr><tr><td>1</td><td>&quot;U80234&quot;</td><td>&quot;N19990&quot;</td><td>&quot;11/15/2019 12:…</td><td>&quot;N55189 N46039 …</td><td>0</td></tr><tr><td>1</td><td>&quot;U80234&quot;</td><td>&quot;N33176&quot;</td><td>&quot;11/15/2019 12:…</td><td>&quot;N55189 N46039 …</td><td>0</td></tr><tr><td>1</td><td>&quot;U80234&quot;</td><td>&quot;N62365&quot;</td><td>&quot;11/15/2019 12:…</td><td>&quot;N55189 N46039 …</td><td>0</td></tr><tr><td>1</td><td>&quot;U80234&quot;</td><td>&quot;N5940&quot;</td><td>&quot;11/15/2019 12:…</td><td>&quot;N55189 N46039 …</td><td>0</td></tr><tr><td>&hellip;</td><td>&hellip;</td><td>&hellip;</td><td>&hellip;</td><td>&hellip;</td><td>&hellip;</td></tr><tr><td>73151</td><td>&quot;U8786&quot;</td><td>&quot;N19611&quot;</td><td>&quot;11/15/2019 8:2…</td><td>&quot;N3046 N356 N20…</td><td>0</td></tr><tr><td>73152</td><td>&quot;U68182&quot;</td><td>&quot;N29862&quot;</td><td>&quot;11/15/2019 11:…</td><td>&quot;N20297 N53568 …</td><td>0</td></tr><tr><td>73152</td><td>&quot;U68182&quot;</td><td>&quot;N5472&quot;</td><td>&quot;11/15/2019 11:…</td><td>&quot;N20297 N53568 …</td><td>0</td></tr><tr><td>73152</td><td>&quot;U68182&quot;</td><td>&quot;N21679&quot;</td><td>&quot;11/15/2019 11:…</td><td>&quot;N20297 N53568 …</td><td>1</td></tr><tr><td>73152</td><td>&quot;U68182&quot;</td><td>&quot;N6400&quot;</td><td>&quot;11/15/2019 11:…</td><td>&quot;N20297 N53568 …</td><td>0</td></tr><tr><td>73152</td><td>&quot;U68182&quot;</td><td>&quot;N53572&quot;</td><td>&quot;11/15/2019 11:…</td><td>&quot;N20297 N53568 …</td><td>0</td></tr><tr><td>73152</td><td>&quot;U68182&quot;</td><td>&quot;N50775&quot;</td><td>&quot;11/15/2019 11:…</td><td>&quot;N20297 N53568 …</td><td>0</td></tr><tr><td>73152</td><td>&quot;U68182&quot;</td><td>&quot;N48740&quot;</td><td>&quot;11/15/2019 11:…</td><td>&quot;N20297 N53568 …</td><td>0</td></tr><tr><td>73152</td><td>&quot;U68182&quot;</td><td>&quot;N55237&quot;</td><td>&quot;11/15/2019 11:…</td><td>&quot;N20297 N53568 …</td><td>0</td></tr><tr><td>73152</td><td>&quot;U68182&quot;</td><td>&quot;N31958&quot;</td><td>&quot;11/15/2019 11:…</td><td>&quot;N20297 N53568 …</td><td>0</td></tr><tr><td>73152</td><td>&quot;U68182&quot;</td><td>&quot;N29091&quot;</td><td>&quot;11/15/2019 11:…</td><td>&quot;N20297 N53568 …</td><td>0</td></tr><tr><td>73152</td><td>&quot;U68182&quot;</td><td>&quot;N24802&quot;</td><td>&quot;11/15/2019 11:…</td><td>&quot;N20297 N53568 …</td><td>0</td></tr></tbody></table></div>"
      ],
      "text/plain": [
       "shape: (2_740_998, 6)\n",
       "┌───────────────┬─────────┬─────────┬────────────────────────┬──────────────────────┬─────────┐\n",
       "│ impression_id ┆ user_id ┆ news_id ┆ time                   ┆ history              ┆ clicked │\n",
       "│ ---           ┆ ---     ┆ ---     ┆ ---                    ┆ ---                  ┆ ---     │\n",
       "│ i64           ┆ str     ┆ str     ┆ str                    ┆ str                  ┆ i32     │\n",
       "╞═══════════════╪═════════╪═════════╪════════════════════════╪══════════════════════╪═════════╡\n",
       "│ 1             ┆ U80234  ┆ N28682  ┆ 11/15/2019 12:37:50 PM ┆ N55189 N46039 N51741 ┆ 0       │\n",
       "│               ┆         ┆         ┆                        ┆ N53234 N112…         ┆         │\n",
       "│ 1             ┆ U80234  ┆ N48740  ┆ 11/15/2019 12:37:50 PM ┆ N55189 N46039 N51741 ┆ 0       │\n",
       "│               ┆         ┆         ┆                        ┆ N53234 N112…         ┆         │\n",
       "│ 1             ┆ U80234  ┆ N31958  ┆ 11/15/2019 12:37:50 PM ┆ N55189 N46039 N51741 ┆ 1       │\n",
       "│               ┆         ┆         ┆                        ┆ N53234 N112…         ┆         │\n",
       "│ 1             ┆ U80234  ┆ N34130  ┆ 11/15/2019 12:37:50 PM ┆ N55189 N46039 N51741 ┆ 0       │\n",
       "│               ┆         ┆         ┆                        ┆ N53234 N112…         ┆         │\n",
       "│ …             ┆ …       ┆ …       ┆ …                      ┆ …                    ┆ …       │\n",
       "│ 73152         ┆ U68182  ┆ N55237  ┆ 11/15/2019 11:54:34 AM ┆ N20297 N53568 N4690  ┆ 0       │\n",
       "│               ┆         ┆         ┆                        ┆ N60608 N4370…        ┆         │\n",
       "│ 73152         ┆ U68182  ┆ N31958  ┆ 11/15/2019 11:54:34 AM ┆ N20297 N53568 N4690  ┆ 0       │\n",
       "│               ┆         ┆         ┆                        ┆ N60608 N4370…        ┆         │\n",
       "│ 73152         ┆ U68182  ┆ N29091  ┆ 11/15/2019 11:54:34 AM ┆ N20297 N53568 N4690  ┆ 0       │\n",
       "│               ┆         ┆         ┆                        ┆ N60608 N4370…        ┆         │\n",
       "│ 73152         ┆ U68182  ┆ N24802  ┆ 11/15/2019 11:54:34 AM ┆ N20297 N53568 N4690  ┆ 0       │\n",
       "│               ┆         ┆         ┆                        ┆ N60608 N4370…        ┆         │\n",
       "└───────────────┴─────────┴─────────┴────────────────────────┴──────────────────────┴─────────┘"
      ]
     },
     "execution_count": 32,
     "metadata": {},
     "output_type": "execute_result"
    }
   ],
   "source": [
    "behavior_df.with_columns(\n",
    "    [\n",
    "        (pl.col(\"impression_news_list\").str.split(\"-\").list.get(0)).alias(\"news_id\"),\n",
    "        (pl.col(\"impression_news_list\").str.split(\"-\").list.get(1).str.parse_int()).alias(\"clicked\"),\n",
    "    ]\n",
    ").select(\n",
    "    [\n",
    "        \"impression_id\",\n",
    "        \"user_id\",\n",
    "        \"news_id\",\n",
    "        \"time\",\n",
    "        \"history\",\n",
    "        \"clicked\",\n",
    "    ]\n",
    ")\n"
   ]
  },
  {
   "cell_type": "code",
   "execution_count": null,
   "metadata": {},
   "outputs": [],
   "source": []
  },
  {
   "cell_type": "code",
   "execution_count": null,
   "metadata": {},
   "outputs": [],
   "source": []
  }
 ],
 "metadata": {
  "kernelspec": {
   "display_name": ".venv",
   "language": "python",
   "name": "python3"
  },
  "language_info": {
   "codemirror_mode": {
    "name": "ipython",
    "version": 3
   },
   "file_extension": ".py",
   "mimetype": "text/x-python",
   "name": "python",
   "nbconvert_exporter": "python",
   "pygments_lexer": "ipython3",
   "version": "3.11.3"
  },
  "orig_nbformat": 4
 },
 "nbformat": 4,
 "nbformat_minor": 2
}
